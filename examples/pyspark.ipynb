{
 "metadata": {
  "name": "",
  "signature": "sha256:96312b5dc905c047f97d477830574fef5fe7e6428d06fb47f363d867a47e9522"
 },
 "nbformat": 3,
 "nbformat_minor": 0,
 "worksheets": [
  {
   "cells": [
    {
     "cell_type": "code",
     "collapsed": false,
     "input": [
      "import os"
     ],
     "language": "python",
     "metadata": {},
     "outputs": [],
     "prompt_number": 1
    },
    {
     "cell_type": "code",
     "collapsed": false,
     "input": [
      "from pyspark import SparkContext"
     ],
     "language": "python",
     "metadata": {},
     "outputs": [],
     "prompt_number": 2
    },
    {
     "cell_type": "code",
     "collapsed": false,
     "input": [
      "SparkContext.setSystemProperty(\"spark.executor.uri\", os.environ[\"SPARK_EXECUTOR_URI\"])"
     ],
     "language": "python",
     "metadata": {},
     "outputs": [],
     "prompt_number": 3
    },
    {
     "cell_type": "code",
     "collapsed": false,
     "input": [
      "sc = SparkContext(os.environ.get(\"CLUSTER_URL\"), 'pyspark-demo')"
     ],
     "language": "python",
     "metadata": {},
     "outputs": [],
     "prompt_number": 4
    },
    {
     "cell_type": "code",
     "collapsed": false,
     "input": [
      "data = sc.parallelize(range(1000))"
     ],
     "language": "python",
     "metadata": {},
     "outputs": [],
     "prompt_number": 5
    },
    {
     "cell_type": "code",
     "collapsed": false,
     "input": [
      "ret = data.filter(lambda x: x > 10 and x < 20)"
     ],
     "language": "python",
     "metadata": {},
     "outputs": [],
     "prompt_number": 6
    },
    {
     "cell_type": "code",
     "collapsed": false,
     "input": [
      "ret.collect()"
     ],
     "language": "python",
     "metadata": {},
     "outputs": [
      {
       "metadata": {},
       "output_type": "pyout",
       "prompt_number": 7,
       "text": [
        "[11, 12, 13, 14, 15, 16, 17, 18, 19]"
       ]
      }
     ],
     "prompt_number": 7
    },
    {
     "cell_type": "heading",
     "level": 2,
     "metadata": {},
     "source": [
      "Python libraries + HDFS"
     ]
    },
    {
     "cell_type": "markdown",
     "metadata": {},
     "source": [
      "A simple (and useless crawler) crawler"
     ]
    },
    {
     "cell_type": "code",
     "collapsed": false,
     "input": [
      "import requests"
     ],
     "language": "python",
     "metadata": {},
     "outputs": [],
     "prompt_number": 8
    },
    {
     "cell_type": "code",
     "collapsed": false,
     "input": [
      "urls = sc.parallelize(['http://google.com', 'http://yahoo.com'])"
     ],
     "language": "python",
     "metadata": {},
     "outputs": [],
     "prompt_number": 9
    },
    {
     "cell_type": "code",
     "collapsed": false,
     "input": [
      "html = urls.map(lambda x: requests.get(x).text)"
     ],
     "language": "python",
     "metadata": {},
     "outputs": [],
     "prompt_number": 10
    },
    {
     "cell_type": "code",
     "collapsed": false,
     "input": [
      "responses = html.collect()"
     ],
     "language": "python",
     "metadata": {},
     "outputs": [],
     "prompt_number": 11
    },
    {
     "cell_type": "code",
     "collapsed": false,
     "input": [
      "len(responses)"
     ],
     "language": "python",
     "metadata": {},
     "outputs": [
      {
       "metadata": {},
       "output_type": "pyout",
       "prompt_number": 12,
       "text": [
        "2"
       ]
      }
     ],
     "prompt_number": 12
    },
    {
     "cell_type": "code",
     "collapsed": false,
     "input": [
      "responses[0][:500]"
     ],
     "language": "python",
     "metadata": {},
     "outputs": [
      {
       "metadata": {},
       "output_type": "pyout",
       "prompt_number": 13,
       "text": [
        "u'<!doctype html><html itemscope=\"\" itemtype=\"http://schema.org/WebPage\" lang=\"en\"><head><meta content=\"Search the world\\'s information, including webpages, images, videos and more. Google has many special features to help you find exactly what you\\'re looking for.\" name=\"description\"><meta content=\"noodp\" name=\"robots\"><meta content=\"/images/google_favicon_128.png\" itemprop=\"image\"><title>Google</title><script>(function(){window.google={kEI:\\'tcgMVNapCuLisASx7YHYCQ\\',kEXPI:\\'17259,4000116,4007661,4008'"
       ]
      }
     ],
     "prompt_number": 13
    },
    {
     "cell_type": "code",
     "collapsed": false,
     "input": [
      "responses[1][:500]"
     ],
     "language": "python",
     "metadata": {},
     "outputs": [
      {
       "metadata": {},
       "output_type": "pyout",
       "prompt_number": 14,
       "text": [
        "u'<!DOCTYPE html> <html lang=\"en-US\" class=\"dev-desktop uni-purple-border  bkt901 https  uni-dark-purple sasb-space\" style=\"\"> <!-- m2 template  --> <head> <meta http-equiv=\"Content-Type\" content=\"text/html; charset=utf-8\"> <link rel=\"dns-prefetch\" href=\"//s.yimg.com\"><link rel=\"dns-prefetch\" href=\"//y.analytics.yahoo.com\"><link rel=\"dns-prefetch\" href=\"//geo.query.yahoo.com\"><link rel=\"dns-prefetch\" href=\"//csc.beap.bc.yahoo.com\"> <title>Yahoo</title> <meta http-equiv=\"X-UA-Compatible\" content=\"c'"
       ]
      }
     ],
     "prompt_number": 14
    },
    {
     "cell_type": "code",
     "collapsed": false,
     "input": [
      "html.saveAsTextFile('hdfs://10.0.8.149:8020/user/dsb/crawl')"
     ],
     "language": "python",
     "metadata": {},
     "outputs": [],
     "prompt_number": 16
    },
    {
     "cell_type": "code",
     "collapsed": false,
     "input": [
      "!hadoop fs -ls -R"
     ],
     "language": "python",
     "metadata": {},
     "outputs": [
      {
       "output_type": "stream",
       "stream": "stdout",
       "text": [
        "log4j:WARN No appenders could be found for logger (org.apache.hadoop.util.Shell).\r\n",
        "log4j:WARN Please initialize the log4j system properly.\r\n",
        "log4j:WARN See http://logging.apache.org/log4j/1.2/faq.html#noconfig for more info.\r\n"
       ]
      },
      {
       "output_type": "stream",
       "stream": "stdout",
       "text": [
        "drwxr-xr-x   - dsb supergroup          0 2014-09-07 21:06 crawl\r\n"
       ]
      },
      {
       "output_type": "stream",
       "stream": "stdout",
       "text": [
        "-rw-r--r--   3 dsb supergroup          0 2014-09-07 21:06 crawl/_SUCCESS\r\n",
        "-rw-r--r--   3 dsb supergroup          0 2014-09-07 21:06 crawl/part-00000\r\n",
        "-rw-r--r--   3 dsb supergroup          0 2014-09-07 21:06 crawl/part-00001\r\n",
        "-rw-r--r--   3 dsb supergroup          0 2014-09-07 21:06 crawl/part-00002\r\n",
        "-rw-r--r--   3 dsb supergroup      18506 2014-09-07 21:06 crawl/part-00003\r\n",
        "-rw-r--r--   3 dsb supergroup          0 2014-09-07 21:06 crawl/part-00004\r\n",
        "-rw-r--r--   3 dsb supergroup          0 2014-09-07 21:06 crawl/part-00005\r\n",
        "-rw-r--r--   3 dsb supergroup          0 2014-09-07 21:06 crawl/part-00006\r\n",
        "-rw-r--r--   3 dsb supergroup     336018 2014-09-07 21:06 crawl/part-00007\r\n"
       ]
      }
     ],
     "prompt_number": 17
    },
    {
     "cell_type": "code",
     "collapsed": false,
     "input": [
      "!hadoop fs -tail crawl/part-00003 "
     ],
     "language": "python",
     "metadata": {},
     "outputs": [
      {
       "output_type": "stream",
       "stream": "stdout",
       "text": [
        "log4j:WARN No appenders could be found for logger (org.apache.hadoop.util.Shell).\r\n",
        "log4j:WARN Please initialize the log4j system properly.\r\n",
        "log4j:WARN See http://logging.apache.org/log4j/1.2/faq.html#noconfig for more info.\r\n"
       ]
      },
      {
       "output_type": "stream",
       "stream": "stdout",
       "text": [
        "ction(e){throw e};if(google.timers&&google.timers.load.t){google.timers.load.t.xjsls=new Date().getTime();}google.dljp('/xjs/_/js/k\\x3dxjs.hp.en_US.slTuXGyXTUw.O/m\\x3dsb_he,pcc/rt\\x3dj/d\\x3d1/t\\x3dzcms/rs\\x3dAItRSTNoMR_1dWYQIljmoBFN-c3G40TfYw');google.xjs=1;}google.pmc={\"sb_he\":{\"agen\":true,\"cgen\":true,\"client\":\"heirloom-hp\",\"dh\":true,\"ds\":\"\",\"eqch\":true,\"fl\":true,\"host\":\"google.com\",\"jam\":0,\"jsonp\":true,\"msgs\":{\"cibl\":\"Clear Search\",\"dym\":\"Did you mean:\",\"lcky\":\"I\\u0026#39;m Feeling Lucky\",\"lml\":\"Learn more\",\"oskt\":\"Input tools\",\"psrc\":\"This search was removed from your \\u003Ca href=\\\"/history\\\"\\u003EWeb History\\u003C/a\\u003E\",\"psrl\":\"Remove\",\"sbit\":\"Search by image\",\"srch\":\"Google Search\"},\"ovr\":{},\"pq\":\"\",\"qcpw\":false,\"refoq\":true,\"scd\":10,\"sce\":5,\"stok\":\"xOxLf1m5MTLwPHezXyZeDftDYNo\"},\"pcc\":{}};google.y.first.push(function(){if(google.med){google.med('init');google.initHistory();google.med('history');}});if(google.j&&google.j.en&&google.j.xi){window.setTimeout(google.j.xi,0);}</script></div></body></html>\r\n"
       ]
      }
     ],
     "prompt_number": 18
    },
    {
     "cell_type": "heading",
     "level": 2,
     "metadata": {},
     "source": [
      "NLTK"
     ]
    },
    {
     "cell_type": "markdown",
     "metadata": {},
     "source": [
      "This doesn't do anything usefull just shows that NLTK is working :)"
     ]
    },
    {
     "cell_type": "code",
     "collapsed": false,
     "input": [
      "import nltk"
     ],
     "language": "python",
     "metadata": {},
     "outputs": [],
     "prompt_number": 5
    },
    {
     "cell_type": "code",
     "collapsed": false,
     "input": [
      "html = sc.textFile('hdfs://10.0.8.149:8020/user/dsb/crawl')"
     ],
     "language": "python",
     "metadata": {},
     "outputs": [],
     "prompt_number": 6
    },
    {
     "cell_type": "code",
     "collapsed": false,
     "input": [
      "counts = html.map(lambda x: nltk.word_tokenize(x))"
     ],
     "language": "python",
     "metadata": {},
     "outputs": [],
     "prompt_number": 9
    },
    {
     "cell_type": "code",
     "collapsed": false,
     "input": [
      "words = counts.collect()"
     ],
     "language": "python",
     "metadata": {},
     "outputs": [],
     "prompt_number": 11
    },
    {
     "cell_type": "code",
     "collapsed": false,
     "input": [
      "len(words)"
     ],
     "language": "python",
     "metadata": {},
     "outputs": [
      {
       "metadata": {},
       "output_type": "pyout",
       "prompt_number": 12,
       "text": [
        "1128"
       ]
      }
     ],
     "prompt_number": 12
    },
    {
     "cell_type": "code",
     "collapsed": false,
     "input": [
      "len(words[0])"
     ],
     "language": "python",
     "metadata": {},
     "outputs": [
      {
       "metadata": {},
       "output_type": "pyout",
       "prompt_number": 14,
       "text": [
        "599"
       ]
      }
     ],
     "prompt_number": 14
    },
    {
     "cell_type": "code",
     "collapsed": false,
     "input": [
      "words[0][:20]"
     ],
     "language": "python",
     "metadata": {},
     "outputs": [
      {
       "metadata": {},
       "output_type": "pyout",
       "prompt_number": 17,
       "text": [
        "[u'<',\n",
        " u'!',\n",
        " u'doctype',\n",
        " u'html',\n",
        " u'>',\n",
        " u'<',\n",
        " u'html',\n",
        " u'itemscope=',\n",
        " u\"''\",\n",
        " u\"''\",\n",
        " u'itemtype=',\n",
        " u\"''\",\n",
        " u'http',\n",
        " u':',\n",
        " u'//schema.org/WebPage',\n",
        " u\"''\",\n",
        " u'lang=',\n",
        " u\"''\",\n",
        " u'en',\n",
        " u\"''\"]"
       ]
      }
     ],
     "prompt_number": 17
    },
    {
     "cell_type": "code",
     "collapsed": false,
     "input": [],
     "language": "python",
     "metadata": {},
     "outputs": []
    }
   ],
   "metadata": {}
  }
 ]
}